{
 "cells": [
  {
   "cell_type": "code",
   "execution_count": 2,
   "id": "9d122894",
   "metadata": {},
   "outputs": [],
   "source": [
    "import pandas as pd"
   ]
  },
  {
   "cell_type": "code",
   "execution_count": null,
   "id": "06067d99",
   "metadata": {},
   "outputs": [],
   "source": []
  },
  {
   "cell_type": "code",
   "execution_count": 3,
   "id": "1f6fdcfc",
   "metadata": {},
   "outputs": [
    {
     "name": "stdout",
     "output_type": "stream",
     "text": [
      "   Date   Mood  Hours of sleep  Stpes walked Screen times  meals\n",
      "0     1   good             8.0        1000.0      2 hours    3.0\n",
      "1     2    bad             7.0           NaN      5 hours    3.0\n",
      "2     3   good             8.0        4000.0         None    3.0\n",
      "3     4   None             NaN        2000.0      4 hours    3.0\n",
      "4     5   good             5.0        2000.0      3 hours    NaN\n",
      "5     6     ok             7.0        1000.0      2 hours    3.0\n",
      "6     7     ok             5.0        1000.0       1 hour    3.0\n",
      "7     8    bad             6.0        1500.0      6 hours    2.0\n",
      "8     9   good             7.0        3000.0      3 hours    3.0\n",
      "9    10  tired             4.0         800.0      4 hours    2.0\n"
     ]
    }
   ],
   "source": [
    "df = pd.DataFrame({\n",
    "    'Date': [1, 2, 3, 4, 5, 6, 7, 8, 9, 10],\n",
    "    'Mood': ['good', 'bad', 'good', None, 'good', 'ok', 'ok', 'bad', 'good', 'tired'],\n",
    "    'Hours of sleep': [8, 7, 8, None, 5, 7, 5, 6, 7, 4],\n",
    "    'Stpes walked': [1000, None, 4000, 2000, 2000, 1000, 1000, 1500, 3000, 800],\n",
    "    'Screen times': ['2 hours', '5 hours', None, '4 hours', '3 hours', '2 hours', '1 hour', '6 hours', '3 hours', '4 hours'],\n",
    "    'meals': [3, 3, 3, 3, None, 3, 3, 2, 3, 2]\n",
    "})\n",
    "\n",
    "print(df)            "
   ]
  },
  {
   "cell_type": "markdown",
   "id": "c0563ff5",
   "metadata": {},
   "source": [
    "## Introduction to data frames"
   ]
  },
  {
   "cell_type": "code",
   "execution_count": 4,
   "id": "4aaa2472",
   "metadata": {},
   "outputs": [
    {
     "name": "stdout",
     "output_type": "stream",
     "text": [
      "1. Shape of the DataFrame:\n",
      "(10, 6)\n"
     ]
    }
   ],
   "source": [
    "print(\"1. Shape of the DataFrame:\")\n",
    "print(df.shape)\n"
   ]
  },
  {
   "cell_type": "markdown",
   "id": "43a59bab",
   "metadata": {},
   "source": [
    " Q1:This means the DataFrame has 10 rows and 6 columns"
   ]
  },
  {
   "cell_type": "code",
   "execution_count": 5,
   "id": "f6728209",
   "metadata": {},
   "outputs": [
    {
     "name": "stdout",
     "output_type": "stream",
     "text": [
      "   Total null values:\n",
      "5\n",
      "\n",
      "   Column-wise null values:\n",
      "Date              0\n",
      "Mood              1\n",
      "Hours of sleep    1\n",
      "Stpes walked      1\n",
      "Screen times      1\n",
      "meals             1\n",
      "dtype: int64\n"
     ]
    }
   ],
   "source": [
    "print(\"   Total null values:\")\n",
    "print(df.isnull().sum().sum())\n",
    "print(\"\\n   Column-wise null values:\")\n",
    "print(df.isnull().sum())"
   ]
  },
  {
   "cell_type": "markdown",
   "id": "a3589baf",
   "metadata": {},
   "source": [
    "Q2: df.isnull().sum().sum()  this shows how many total nulls values are there on the dataset and df.isnull().sum() shows how many column wise null values are there in the dataset"
   ]
  },
  {
   "cell_type": "code",
   "execution_count": 6,
   "id": "94ed069a",
   "metadata": {},
   "outputs": [
    {
     "name": "stdout",
     "output_type": "stream",
     "text": [
      "Date                int64\n",
      "Mood               object\n",
      "Hours of sleep    float64\n",
      "Stpes walked      float64\n",
      "Screen times       object\n",
      "meals             float64\n",
      "dtype: object\n"
     ]
    }
   ],
   "source": [
    "print(df.dtypes)"
   ]
  },
  {
   "cell_type": "markdown",
   "id": "91547a90",
   "metadata": {},
   "source": [
    "Q3: in this data set the datatypes used are:\n",
    "Integer (int64): whole numbers\n",
    "\n",
    "Float (float64): decimal numbers (often used when nulls are present)\n",
    "\n",
    "Object (object): usually text or mixed types"
   ]
  },
  {
   "cell_type": "code",
   "execution_count": 22,
   "id": "62b0a825",
   "metadata": {},
   "outputs": [
    {
     "name": "stdout",
     "output_type": "stream",
     "text": [
      "           Date  Hours of sleep  Stpes walked  meals\n",
      "count  7.000000        6.000000      6.000000    6.0\n",
      "mean   4.000000        6.666667   1833.333333    3.0\n",
      "std    2.160247        1.366260   1169.045194    0.0\n",
      "min    1.000000        5.000000   1000.000000    3.0\n",
      "25%    2.500000        5.500000   1000.000000    3.0\n",
      "50%    4.000000        7.000000   1500.000000    3.0\n",
      "75%    5.500000        7.750000   2000.000000    3.0\n",
      "max    7.000000        8.000000   4000.000000    3.0\n"
     ]
    }
   ],
   "source": [
    "print(df.describe())"
   ]
  },
  {
   "cell_type": "markdown",
   "id": "003a04e2",
   "metadata": {},
   "source": [
    "Q4: .describe() gives summary statistics for numerical columns including:\n",
    "\n",
    "Count of non-null values\n",
    "\n",
    "Mean (average)\n",
    "\n",
    "Standard deviation\n",
    "\n",
    "Minimum and maximum values\n",
    "\n",
    "25%, 50% (median), and 75% percentiles\n",
    "This helps understand the spread and central tendency of the data."
   ]
  },
  {
   "cell_type": "code",
   "execution_count": 7,
   "id": "37eb3a8f",
   "metadata": {},
   "outputs": [
    {
     "name": "stdout",
     "output_type": "stream",
     "text": [
      "<class 'pandas.core.frame.DataFrame'>\n",
      "RangeIndex: 10 entries, 0 to 9\n",
      "Data columns (total 6 columns):\n",
      " #   Column          Non-Null Count  Dtype  \n",
      "---  ------          --------------  -----  \n",
      " 0   Date            10 non-null     int64  \n",
      " 1   Mood            9 non-null      object \n",
      " 2   Hours of sleep  9 non-null      float64\n",
      " 3   Stpes walked    9 non-null      float64\n",
      " 4   Screen times    9 non-null      object \n",
      " 5   meals           9 non-null      float64\n",
      "dtypes: float64(3), int64(1), object(2)\n",
      "memory usage: 612.0+ bytes\n"
     ]
    }
   ],
   "source": [
    "df.info()"
   ]
  },
  {
   "cell_type": "markdown",
   "id": "be46a2af",
   "metadata": {},
   "source": [
    "Q5: .info() shows:\n",
    "\n",
    "The number of rows and columns\n",
    "\n",
    "How many non-null values each column has\n",
    "\n",
    "The data type of each column\n",
    "\n",
    "It helps identify missing data and understand the overall structure of the dataset."
   ]
  },
  {
   "cell_type": "code",
   "execution_count": null,
   "id": "28cc7ffd",
   "metadata": {},
   "outputs": [],
   "source": []
  }
 ],
 "metadata": {
  "kernelspec": {
   "display_name": "Python (myenv)",
   "language": "python",
   "name": "myenv"
  },
  "language_info": {
   "codemirror_mode": {
    "name": "ipython",
    "version": 3
   },
   "file_extension": ".py",
   "mimetype": "text/x-python",
   "name": "python",
   "nbconvert_exporter": "python",
   "pygments_lexer": "ipython3",
   "version": "3.13.5"
  }
 },
 "nbformat": 4,
 "nbformat_minor": 5
}
