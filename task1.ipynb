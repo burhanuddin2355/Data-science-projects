{
 "cells": [
  {
   "cell_type": "code",
   "execution_count": null,
   "id": "9d122894",
   "metadata": {},
   "outputs": [],
   "source": [
    "import pandas as pd"
   ]
  },
  {
   "cell_type": "code",
   "execution_count": null,
   "id": "06067d99",
   "metadata": {},
   "outputs": [],
   "source": []
  },
  {
   "cell_type": "code",
   "execution_count": 16,
   "id": "1f6fdcfc",
   "metadata": {},
   "outputs": [
    {
     "name": "stdout",
     "output_type": "stream",
     "text": [
      "   Date  Mood  Hours of sleep  Stpes walked Screen times  meals\n",
      "0   1.0  good             8.0        1000.0      2 hours    3.0\n",
      "1   2.0   Bad             7.0           NaN      5 hours    3.0\n",
      "2   3.0  good             8.0        4000.0         None    3.0\n",
      "3   4.0  None             NaN        2000.0     4 hours     3.0\n",
      "4   5.0  good             5.0        2000.0      3 hours    NaN\n",
      "5   6.0    ok             7.0        1000.0      2 hours    3.0\n",
      "6   7.0    ok             5.0        1000.0       1 hour    3.0\n"
     ]
    }
   ],
   "source": [
    "df =pd.DataFrame({'Date': [1,2,3,4,5,6.,7],\n",
    "               'Mood': ['good' , 'Bad' , 'good' , None , 'good' , 'ok', 'ok'],\n",
    "               'Hours of sleep': [8,7,8,None,5,7,5],\n",
    "               'Stpes walked': [1000,None,4000,2000,2000,1000,1000],\n",
    "               'Screen times': ['2 hours' ,'5 hours' , None ,'4 hours ','3 hours','2 hours' , '1 hour'],\n",
    "               'meals': [3,3,3,3,None,3,3]})\n",
    "print(df)               "
   ]
  },
  {
   "cell_type": "code",
   "execution_count": 19,
   "id": "4aaa2472",
   "metadata": {},
   "outputs": [
    {
     "name": "stdout",
     "output_type": "stream",
     "text": [
      "1. Shape of the DataFrame:\n",
      "(7, 6)\n"
     ]
    }
   ],
   "source": [
    "print(\"1. Shape of the DataFrame:\")\n",
    "print(df.shape)\n"
   ]
  },
  {
   "cell_type": "code",
   "execution_count": 20,
   "id": "f6728209",
   "metadata": {},
   "outputs": [
    {
     "name": "stdout",
     "output_type": "stream",
     "text": [
      "   Total null values:\n",
      "5\n",
      "\n",
      "   Column-wise null values:\n",
      "Date              0\n",
      "Mood              1\n",
      "Hours of sleep    1\n",
      "Stpes walked      1\n",
      "Screen times      1\n",
      "meals             1\n",
      "dtype: int64\n"
     ]
    }
   ],
   "source": [
    "print(\"   Total null values:\")\n",
    "print(df.isnull().sum().sum())\n",
    "print(\"\\n   Column-wise null values:\")\n",
    "print(df.isnull().sum())"
   ]
  },
  {
   "cell_type": "code",
   "execution_count": 21,
   "id": "94ed069a",
   "metadata": {},
   "outputs": [
    {
     "name": "stdout",
     "output_type": "stream",
     "text": [
      "Date              float64\n",
      "Mood               object\n",
      "Hours of sleep    float64\n",
      "Stpes walked      float64\n",
      "Screen times       object\n",
      "meals             float64\n",
      "dtype: object\n"
     ]
    }
   ],
   "source": [
    "print(df.dtypes)"
   ]
  },
  {
   "cell_type": "code",
   "execution_count": 22,
   "id": "62b0a825",
   "metadata": {},
   "outputs": [
    {
     "name": "stdout",
     "output_type": "stream",
     "text": [
      "           Date  Hours of sleep  Stpes walked  meals\n",
      "count  7.000000        6.000000      6.000000    6.0\n",
      "mean   4.000000        6.666667   1833.333333    3.0\n",
      "std    2.160247        1.366260   1169.045194    0.0\n",
      "min    1.000000        5.000000   1000.000000    3.0\n",
      "25%    2.500000        5.500000   1000.000000    3.0\n",
      "50%    4.000000        7.000000   1500.000000    3.0\n",
      "75%    5.500000        7.750000   2000.000000    3.0\n",
      "max    7.000000        8.000000   4000.000000    3.0\n"
     ]
    }
   ],
   "source": [
    "print(df.describe())"
   ]
  },
  {
   "cell_type": "code",
   "execution_count": 23,
   "id": "37eb3a8f",
   "metadata": {},
   "outputs": [
    {
     "name": "stdout",
     "output_type": "stream",
     "text": [
      "<class 'pandas.core.frame.DataFrame'>\n",
      "RangeIndex: 7 entries, 0 to 6\n",
      "Data columns (total 6 columns):\n",
      " #   Column          Non-Null Count  Dtype  \n",
      "---  ------          --------------  -----  \n",
      " 0   Date            7 non-null      float64\n",
      " 1   Mood            6 non-null      object \n",
      " 2   Hours of sleep  6 non-null      float64\n",
      " 3   Stpes walked    6 non-null      float64\n",
      " 4   Screen times    6 non-null      object \n",
      " 5   meals           6 non-null      float64\n",
      "dtypes: float64(4), object(2)\n",
      "memory usage: 468.0+ bytes\n"
     ]
    }
   ],
   "source": [
    "df.info()"
   ]
  },
  {
   "cell_type": "code",
   "execution_count": null,
   "id": "28cc7ffd",
   "metadata": {},
   "outputs": [],
   "source": []
  }
 ],
 "metadata": {
  "kernelspec": {
   "display_name": "Python (myenv)",
   "language": "python",
   "name": "myenv"
  },
  "language_info": {
   "codemirror_mode": {
    "name": "ipython",
    "version": 3
   },
   "file_extension": ".py",
   "mimetype": "text/x-python",
   "name": "python",
   "nbconvert_exporter": "python",
   "pygments_lexer": "ipython3",
   "version": "3.13.5"
  }
 },
 "nbformat": 4,
 "nbformat_minor": 5
}
